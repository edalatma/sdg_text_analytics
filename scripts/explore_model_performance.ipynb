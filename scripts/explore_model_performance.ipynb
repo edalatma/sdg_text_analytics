{
 "cells": [
  {
   "cell_type": "markdown",
   "metadata": {},
   "source": [
    "This notebook takes the predictions made by the various models and calculates their performance.\n"
   ]
  },
  {
   "cell_type": "code",
   "execution_count": null,
   "metadata": {},
   "outputs": [],
   "source": [
    "import pandas as pd\n",
    "from variables import PROJECTNAME_DATA_PATHS, SDG_MAP, ALL_EVAL_RESULTS_PATH\n",
    "from file_org import iterdatatype_data"
   ]
  },
  {
   "cell_type": "code",
   "execution_count": null,
   "metadata": {},
   "outputs": [],
   "source": [
    "def count_sdgs(data):\n",
    "    sdg_counts = {k: 0 for k in SDG_MAP.keys()}\n",
    "    total_rows = data.shape[0]\n",
    "\n",
    "    for label_data in data[\"labels\"]:\n",
    "        for label in set(label_data):\n",
    "            sdg_counts[label] += 1\n",
    "\n",
    "    return sdg_counts, total_rows\n",
    "\n",
    "\n",
    "all_results = []\n",
    "for datatype in PROJECTNAME_DATA_PATHS.keys():\n",
    "    for project_name, data in iterdatatype_data(datatype):\n",
    "        sdg_counts, total_rows = count_sdgs(data)\n",
    "        for sdg, sdg_count in sdg_counts.items():\n",
    "            all_results.append(\n",
    "                dict(\n",
    "                    project_name=project_name,\n",
    "                    sdg=sdg,\n",
    "                    datatype=datatype,\n",
    "                    total_rows=total_rows,\n",
    "                    positive=sdg_count,\n",
    "                    negative=total_rows - sdg_count,\n",
    "                    pos_perc=sdg_count / total_rows,\n",
    "                    neg_perc=(total_rows - sdg_count) / total_rows,\n",
    "                )\n",
    "            )\n",
    "\n",
    "data_counts_df = pd.DataFrame(all_results)\n",
    "\n",
    "model_performance = pd.read_json(ALL_EVAL_RESULTS_PATH, orient=\"records\", lines=True)\n",
    "data_counts_df = data_counts_df.merge(\n",
    "    model_performance, how=\"left\", on=[\"sdg\", \"project_name\"]\n",
    ")\n",
    "\n",
    "data_counts_df.to_excel(\"../data/exploratory/data_distribution.xlsx\", index=False)\n",
    "data_counts_df"
   ]
  }
 ],
 "metadata": {
  "language_info": {
   "name": "python"
  }
 },
 "nbformat": 4,
 "nbformat_minor": 2
}
